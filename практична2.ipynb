{
  "nbformat": 4,
  "nbformat_minor": 0,
  "metadata": {
    "colab": {
      "provenance": [],
      "authorship_tag": "ABX9TyPIycbuipfsYp/WAlfrQXXL",
      "include_colab_link": true
    },
    "kernelspec": {
      "name": "python3",
      "display_name": "Python 3"
    },
    "language_info": {
      "name": "python"
    }
  },
  "cells": [
    {
      "cell_type": "markdown",
      "metadata": {
        "id": "view-in-github",
        "colab_type": "text"
      },
      "source": [
        "<a href=\"https://colab.research.google.com/github/Sashka123123/CHM/blob/main/%D0%BF%D1%80%D0%B0%D0%BA%D1%82%D0%B8%D1%87%D0%BD%D0%B02.ipynb\" target=\"_parent\"><img src=\"https://colab.research.google.com/assets/colab-badge.svg\" alt=\"Open In Colab\"/></a>"
      ]
    },
    {
      "cell_type": "code",
      "source": [
        "import numpy as np\n",
        "from scipy.misc import derivative\n",
        "\n",
        "def f(x):\n",
        "   return 3*x**4 - 2*x**3 - x**2 + x - 4\n",
        "\n",
        "eps = 0.0001\n",
        "\n",
        "def find_segments(): #відокремлюємо корені\n",
        "    search_range = np.arange(-10, 10, 1)\n",
        "    a = None\n",
        "    previous_x = None\n",
        "    current_x  = None\n",
        "    segments = []\n",
        "\n",
        "    for x in search_range:\n",
        "        x = round(x, 4)\n",
        "        current_x = f(x)\n",
        "        if previous_x != None and previous_x * current_x < 0:\n",
        "            segments.append((a, x))\n",
        "        a = x\n",
        "        previous_x = current_x\n",
        "\n",
        "    return segments\n",
        "\n",
        "segments = find_segments()\n",
        "print(f'Відрізки:{segments}')\n",
        "\n",
        "def rec(a, b, eps): #метод половинного ділення\n",
        "    while (abs(a-b) > eps):\n",
        "        if f(a)*f((a+b)/2) < 0:\n",
        "            b = (a+b)/2\n",
        "        else:\n",
        "            a = (a+b)/2\n",
        "        x = (a+b)/2\n",
        "\n",
        "    print ('x= ', round(x,5), '  -   Half division method')\n",
        "\n",
        "def hord (a,b,eps): #метод хорд\n",
        "    if (f(a)*derivative(f,a,n=2) > 0):\n",
        "        x0=a\n",
        "        xi=b\n",
        "    else:\n",
        "        x0=b\n",
        "        xi=a\n",
        "    xi_1=xi-(xi-x0)*f(xi)/(f(xi)-f(x0))\n",
        "    while (abs(xi_1-xi) > eps):\n",
        "        xi = xi_1\n",
        "        xi_1 = xi - (xi - x0)*f(xi) / (f(xi) - f(x0))\n",
        "\n",
        "    print('x= ', round(xi_1,5), '  -   Chord method')\n",
        "\n",
        "a = -2\n",
        "b = -1\n",
        "\n",
        "print(f'Solution of a nonlinear equation on a segment [{a}, {b}]')\n",
        "rec(a, b, eps) #викликаємо метод пол. ділення для першого відрізка\n",
        "hord(a, b, eps) #викликаємо метод хорд для першого відрізка\n",
        "\n",
        "# Якщо є ще один відрізок для рівняння 3x⁴-2x³-x²+x-4=0,\n",
        "# то вам потрібно повторити виклики rec() та hord() для нього.\n",
        "# Наприклад:\n",
        "\n",
        "a1 = 1\n",
        "b1 = 2\n",
        "\n",
        "print(f'Solution of a nonlinear equation on a segment [{a1}, {b1}]')\n",
        "rec(a1, b1, eps)\n",
        "hord(a1, b1, eps)\n",
        "\n"
      ],
      "metadata": {
        "colab": {
          "base_uri": "https://localhost:8080/"
        },
        "id": "OrOFC3COcbot",
        "outputId": "cac840f2-9477-42de-8a3c-631988c3fcb2"
      },
      "execution_count": 2,
      "outputs": [
        {
          "output_type": "stream",
          "name": "stdout",
          "text": [
            "Відрізки:[(-2, -1), (1, 2)]\n",
            "Solution of a nonlinear equation on a segment [-2, -1]\n",
            "x=  -1.06076   -   Half division method\n",
            "x=  -1.06063   -   Chord method\n",
            "Solution of a nonlinear equation on a segment [1, 2]\n",
            "x=  1.31442   -   Half division method\n",
            "x=  1.31432   -   Chord method\n"
          ]
        },
        {
          "output_type": "stream",
          "name": "stderr",
          "text": [
            "<ipython-input-2-2e91c6eba64e>:40: DeprecationWarning: scipy.misc.derivative is deprecated in SciPy v1.10.0; and will be completely removed in SciPy v1.12.0. You may consider using findiff: https://github.com/maroba/findiff or numdifftools: https://github.com/pbrod/numdifftools\n",
            "  if (f(a)*derivative(f,a,n=2) > 0):\n"
          ]
        }
      ]
    }
  ]
}