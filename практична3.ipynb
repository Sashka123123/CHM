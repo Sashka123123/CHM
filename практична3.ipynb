{
  "nbformat": 4,
  "nbformat_minor": 0,
  "metadata": {
    "colab": {
      "provenance": [],
      "authorship_tag": "ABX9TyPVYnPMyVhKcDDUDyVlnfWc",
      "include_colab_link": true
    },
    "kernelspec": {
      "name": "python3",
      "display_name": "Python 3"
    },
    "language_info": {
      "name": "python"
    }
  },
  "cells": [
    {
      "cell_type": "markdown",
      "metadata": {
        "id": "view-in-github",
        "colab_type": "text"
      },
      "source": [
        "<a href=\"https://colab.research.google.com/github/Sashka123123/CHM/blob/main/%D0%BF%D1%80%D0%B0%D0%BA%D1%82%D0%B8%D1%87%D0%BD%D0%B03.ipynb\" target=\"_parent\"><img src=\"https://colab.research.google.com/assets/colab-badge.svg\" alt=\"Open In Colab\"/></a>"
      ]
    },
    {
      "cell_type": "code",
      "execution_count": 1,
      "metadata": {
        "colab": {
          "base_uri": "https://localhost:8080/"
        },
        "id": "aQYFdPEKHm5-",
        "outputId": "b0f2118a-71c6-46cb-d395-aaa99d5fb076"
      },
      "outputs": [
        {
          "output_type": "stream",
          "name": "stdout",
          "text": [
            "Розв'язок рівняння за методом Ньютона x = -1.0675270771878977\n"
          ]
        },
        {
          "output_type": "stream",
          "name": "stderr",
          "text": [
            "<ipython-input-1-ea1f462d38c7>:13: DeprecationWarning: scipy.misc.derivative is deprecated in SciPy v1.10.0; and will be completely removed in SciPy v1.12.0. You may consider using findiff: https://github.com/maroba/findiff or numdifftools: https://github.com/pbrod/numdifftools\n",
            "  df2 = derivative(f, b, n=2)\n",
            "<ipython-input-1-ea1f462d38c7>:18: DeprecationWarning: scipy.misc.derivative is deprecated in SciPy v1.10.0; and will be completely removed in SciPy v1.12.0. You may consider using findiff: https://github.com/maroba/findiff or numdifftools: https://github.com/pbrod/numdifftools\n",
            "  df = derivative(f, xi, n=1)\n"
          ]
        }
      ],
      "source": [
        "import numpy as np\n",
        "from scipy.misc import derivative\n",
        "\n",
        "def f(x):\n",
        "    return 3 * pow(x, 4) - 2 * pow(x, 3) - pow(x, 2) + x - 4\n",
        "\n",
        "a = -2.\n",
        "b = -1.\n",
        "\n",
        "eps = 0.001\n",
        "\n",
        "def newton(a, b, eps):\n",
        "    df2 = derivative(f, b, n=2)\n",
        "    if (f(b) * df2 > 0):\n",
        "        xi = b\n",
        "    else:\n",
        "        xi = a\n",
        "    df = derivative(f, xi, n=1)\n",
        "    xi_1 = xi - f(xi) / df\n",
        "\n",
        "    while (abs(xi_1 - xi) > eps):\n",
        "        xi = xi_1\n",
        "        xi_1 = xi - f(xi) / df\n",
        "\n",
        "    return xi_1\n",
        "\n",
        "result = newton(a, b, eps)\n",
        "print('Розв\\'язок рівняння за методом Ньютона x =', result)\n"
      ]
    },
    {
      "cell_type": "code",
      "source": [
        "import numpy as np\n",
        "import math\n",
        "from scipy.misc import derivative\n",
        "\n",
        "def f(x):\n",
        "    return 3*pow(x, 4) - 2*pow(x, 3) - pow(x, 2) + x - 4\n",
        "\n",
        "def komb(a, b, eps):\n",
        "    if (derivative(f, a, n=1) * derivative(f, a, n=2) > 0):\n",
        "        a0 = a\n",
        "        b0 = b\n",
        "    else:\n",
        "        a0 = b\n",
        "        b0 = a\n",
        "    ai = a0\n",
        "    bi = b0\n",
        "    while abs(ai - bi) > eps:\n",
        "        ai_1 = ai - f(ai) * (bi - ai) / (f(bi) - f(ai))\n",
        "        bi_1 = bi - f(bi) / derivative(f, bi, n=1)\n",
        "        ai = ai_1\n",
        "        bi = bi_1\n",
        "    x = (ai_1 + bi_1) / 2\n",
        "    return print('Знаходження рівняння методом комбінованого методу: x = ', x)\n",
        "\n",
        "komb(-2, -1, 0.0001)\n"
      ],
      "metadata": {
        "colab": {
          "base_uri": "https://localhost:8080/"
        },
        "id": "y6t7_GLFHz2z",
        "outputId": "cf673ce4-da3b-4594-ee98-f5341ea39370"
      },
      "execution_count": 2,
      "outputs": [
        {
          "output_type": "stream",
          "name": "stdout",
          "text": [
            "Знаходження рівняння методом комбінованого методу: x =  -1.0608209223746776\n"
          ]
        },
        {
          "output_type": "stream",
          "name": "stderr",
          "text": [
            "<ipython-input-2-6e459d5f5d9b>:9: DeprecationWarning: scipy.misc.derivative is deprecated in SciPy v1.10.0; and will be completely removed in SciPy v1.12.0. You may consider using findiff: https://github.com/maroba/findiff or numdifftools: https://github.com/pbrod/numdifftools\n",
            "  if (derivative(f, a, n=1) * derivative(f, a, n=2) > 0):\n",
            "<ipython-input-2-6e459d5f5d9b>:19: DeprecationWarning: scipy.misc.derivative is deprecated in SciPy v1.10.0; and will be completely removed in SciPy v1.12.0. You may consider using findiff: https://github.com/maroba/findiff or numdifftools: https://github.com/pbrod/numdifftools\n",
            "  bi_1 = bi - f(bi) / derivative(f, bi, n=1)\n"
          ]
        }
      ]
    }
  ]
}