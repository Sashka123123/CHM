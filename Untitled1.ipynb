{
  "nbformat": 4,
  "nbformat_minor": 0,
  "metadata": {
    "colab": {
      "provenance": [],
      "authorship_tag": "ABX9TyOBS9hJWWCoVx1hvaLilbCy",
      "include_colab_link": true
    },
    "kernelspec": {
      "name": "python3",
      "display_name": "Python 3"
    },
    "language_info": {
      "name": "python"
    }
  },
  "cells": [
    {
      "cell_type": "markdown",
      "metadata": {
        "id": "view-in-github",
        "colab_type": "text"
      },
      "source": [
        "<a href=\"https://colab.research.google.com/github/Sashka123123/CHM/blob/main/Untitled1.ipynb\" target=\"_parent\"><img src=\"https://colab.research.google.com/assets/colab-badge.svg\" alt=\"Open In Colab\"/></a>"
      ]
    },
    {
      "cell_type": "code",
      "execution_count": null,
      "metadata": {
        "id": "gbBVPCFJs0ye"
      },
      "outputs": [],
      "source": [
        "import numpy as np\n",
        "\n",
        "# Задані матриці A і B\n",
        "A = np.array([[2, -1, 1], [3, 1, -1], [0, 2, -1]])\n",
        "B = np.array([[1, 0, 3], [2, 1, 1], [1, 2, 3]])\n",
        "\n",
        "# Обчислення AB і BA\n",
        "AB = np.dot(A, B)\n",
        "BA = np.dot(B, A)\n",
        "\n",
        "# Обчислення матриці C = AB - BA\n",
        "C = AB - BA\n",
        "\n",
        "# Виведення результатів\n",
        "print(\"Матриця AB:\")\n",
        "print(AB)\n",
        "print(\"\\nМатриця BA:\")\n",
        "print(BA)\n",
        "print(\"\\nМатриця C = AB - BA:\")\n",
        "print(C)\n",
        "\n"
      ]
    },
    {
      "cell_type": "code",
      "source": [
        "import numpy as np\n",
        "\n",
        "# Задані матриці\n",
        "matrix1 = np.array([[-10, 21], [-1, 2]])\n",
        "matrix2 = np.array([[-10, 10], [12, -1]])\n",
        "matrix3 = np.array([[50000, -20000], [30000, 2]])\n",
        "\n",
        "# Підняття матриць до квадрату\n",
        "result1 = np.dot(matrix1, matrix1)\n",
        "result2 = np.dot(matrix2, matrix2)\n",
        "result3 = np.dot(matrix3, matrix3)\n",
        "\n",
        "# Виведення результатів\n",
        "print(\"Матриця 1^2:\")\n",
        "print(result1)\n",
        "\n",
        "print(\"\\nМатриця 2^2:\")\n",
        "print(result2)\n",
        "\n",
        "print(\"\\nМатриця 3^2:\")\n",
        "print(result3)\n"
      ],
      "metadata": {
        "id": "AMGMny76s5Iu"
      },
      "execution_count": null,
      "outputs": []
    },
    {
      "cell_type": "code",
      "source": [
        "import numpy as np\n",
        "\n",
        "# Задані матриці\n",
        "matrix1 = np.array([[5, 4, 3], [0, 1, 1], [2, 5, -1], [-1, 3, 3], [3, 2, 0]])\n",
        "matrix2 = np.array([[6, -2], [7, 4], [-2, -7]])\n",
        "\n",
        "# Знаходження добутку матриць\n",
        "result = np.dot(matrix1, matrix2)\n",
        "\n",
        "# Виведення результату\n",
        "print(\"Добуток матриць:\")\n",
        "print(result)\n"
      ],
      "metadata": {
        "id": "ciXAAhT3s9Dr"
      },
      "execution_count": null,
      "outputs": []
    },
    {
      "cell_type": "code",
      "source": [
        "import numpy as np\n",
        "\n",
        "# Задані матриці\n",
        "matrix1 = np.array([[2, 1, 7], [3, 4, 1], [0, 6, 7]])\n",
        "matrix2 = np.array([[0, 3, 6], [2, 4, 7], [0, 5, 8]])\n",
        "matrix3 = np.array([[2, 1, 2], [4, 4, 5], [1, 2, 3]])\n",
        "\n",
        "# Знаходження визначників\n",
        "det1 = np.linalg.det(matrix1)\n",
        "det2 = np.linalg.det(matrix2)\n",
        "det3 = np.linalg.det(matrix3)\n",
        "\n",
        "# Виведення результатів\n",
        "print(\"Визначник матриці 1:\")\n",
        "print(det1)\n",
        "\n",
        "print(\"\\nВизначник матриці 2:\")\n",
        "print(det2)\n",
        "\n",
        "print(\"\\nВизначник матриці 3:\")\n",
        "print(det3)\n",
        ""
      ],
      "metadata": {
        "id": "_matPXOgtLci"
      },
      "execution_count": null,
      "outputs": []
    },
    {
      "cell_type": "code",
      "source": [
        "import numpy as np\n",
        "\n",
        "# Задана матриця\n",
        "matrix = np.array([[1, 2, 3, 4], [-2, 1, -4, 3], [3, -4, -1, 2], [4, 3, -2, -1]])\n",
        "\n",
        "# Знаходження визначника\n",
        "det_matrix = np.linalg.det(matrix)\n",
        "\n",
        "# Виведення результату\n",
        "print(\"Визначник матриці:\")\n",
        "print(det_matrix)\n"
      ],
      "metadata": {
        "id": "qvEiUwgTtOY6"
      },
      "execution_count": null,
      "outputs": []
    },
    {
      "cell_type": "code",
      "source": [
        "import numpy as np\n",
        "\n",
        "# Задана матриця\n",
        "matrix = np.array([[1, 2, 2], [2, 1, -2], [2, -2, 1]])\n",
        "\n",
        "# Знаходження оберненої матриці\n",
        "inverse_matrix = np.linalg.inv(matrix)\n",
        "\n",
        "# Виведення результату\n",
        "print(\"Обернена матриця:\")\n",
        "print(inverse_matrix)\n"
      ],
      "metadata": {
        "id": "64z6d7h0tSMa"
      },
      "execution_count": null,
      "outputs": []
    },
    {
      "cell_type": "code",
      "source": [
        "import numpy as np\n",
        "\n",
        "# Задана матриця\n",
        "matrix = np.array([[1, 2, 3, 4], [3, -1, 2, 5], [1, 2, 3, 4], [1, 3, 4, 5]])\n",
        "\n",
        "# Знаходження рангу матриці\n",
        "rank_matrix = np.linalg.matrix_rank(matrix)\n",
        "\n",
        "# Виведення результату\n",
        "print(\"Ранг матриці:\")\n",
        "print(rank_matrix)\n"
      ],
      "metadata": {
        "id": "IYqVPRPftYnM"
      },
      "execution_count": null,
      "outputs": []
    },
    {
      "cell_type": "code",
      "source": [
        "import numpy as np\n",
        "\n",
        "# Задана матриця A та вектор B\n",
        "A = np.array([[1, 2, -1], [3, 4, 1], [5, 1, -3]])\n",
        "B = np.array([-3, 1, -2])\n",
        "\n",
        "# Метод Крамера\n",
        "det_A = np.linalg.det(A)\n",
        "\n",
        "# Матриці A_x, A_y, A_z для методу Крамера\n",
        "Ax = A.copy()\n",
        "Ax[:, 0] = B\n",
        "det_Ax = np.linalg.det(Ax)\n",
        "\n",
        "Ay = A.copy()\n",
        "Ay[:, 1] = B\n",
        "det_Ay = np.linalg.det(Ay)\n",
        "\n",
        "Az = A.copy()\n",
        "Az[:, 2] = B\n",
        "det_Az = np.linalg.det(Az)\n",
        "\n",
        "# Розрахунок розв'язків\n",
        "x_kramer = det_Ax / det_A\n",
        "y_kramer = det_Ay / det_A\n",
        "z_kramer = det_Az / det_A\n",
        "# Виведення результатів\n",
        "print(\"Результат методу Крамера:\")\n",
        "print(\"x =\", x_kramer)\n",
        "print(\"y =\", y_kramer)\n",
        "print(\"z =\", z_kramer)\n",
        "\n"
      ],
      "metadata": {
        "id": "tdzi2QYRtcTL"
      },
      "execution_count": null,
      "outputs": []
    },
    {
      "cell_type": "code",
      "source": [
        "import numpy as np\n",
        "\n",
        "# Задана матриця A та вектор B\n",
        "A = np.array([[1, 2, -1], [3, 4, 1], [5, 1, -3]])\n",
        "B = np.array([-3, 1, -2])\n",
        "\n",
        "# Обчислення оберненої матриці\n",
        "A_inv = np.linalg.inv(A)\n",
        "\n",
        "# Обчислення розв'язку за допомогою оберненої матриці\n",
        "X_matrix = np.dot(A_inv, B)\n",
        "\n",
        "# Виведення результату\n",
        "print(\"Результат матричного методу:\")\n",
        "print(\"x =\", X_matrix[0])\n",
        "print(\"y =\", X_matrix[1])\n",
        "print(\"z =\", X_matrix[2])\n"
      ],
      "metadata": {
        "colab": {
          "base_uri": "https://localhost:8080/"
        },
        "id": "N5aKqX6_tghq",
        "outputId": "fb1c34b3-2dec-473c-87da-d08904ab6b9e"
      },
      "execution_count": 1,
      "outputs": [
        {
          "output_type": "stream",
          "name": "stdout",
          "text": [
            "Результат матричного методу:\n",
            "x = 1.0\n",
            "y = -1.0\n",
            "z = 2.0\n"
          ]
        }
      ]
    },
    {
      "cell_type": "code",
      "source": [
        "import numpy as np\n",
        "\n",
        "# Задана матриця A та вектор B\n",
        "A = np.array([[1, 2, -1], [3, 4, 1], [5, 1, -3]])\n",
        "B = np.array([-3, 1, -2])\n",
        "\n",
        "# Розв'язок за допомогою solve\n",
        "X_solve = np.linalg.solve(A, B)\n",
        "\n",
        "# Виведення результату\n",
        "print(\"Розв'язок за допомогою solve:\")\n",
        "print(\"x =\", X_solve[0])\n",
        "print(\"y =\", X_solve[1])\n",
        "print(\"z =\", X_solve[2])\n"
      ],
      "metadata": {
        "id": "f52GMKastqAz"
      },
      "execution_count": null,
      "outputs": []
    },
    {
      "cell_type": "code",
      "source": [
        "import numpy as np\n",
        "\n",
        "# Визначте розмірність матриці\n",
        "N = 3  # Кількість рядків\n",
        "M = 4  # Кількість стовпців\n",
        "\n",
        "# Створення прямокутної матриці з випадковими елементами\n",
        "A = np.random.rand(N, M)\n",
        "\n",
        "# Обчислення суми елементів всієї матриці\n",
        "total_sum = np.sum(A)\n",
        "\n",
        "# Обчислення суми елементів кожного рядка\n",
        "row_sums = np.sum(A, axis=1)\n",
        "\n",
        "# Визначення долі суми елементів кожного рядка в сумі всієї матриці\n",
        "fractions = row_sums / total_sum\n",
        "\n",
        "# Виведення результатів\n",
        "print(\"Матриця A:\")\n",
        "print(A)\n",
        "print(\"\\nСума елементів всієї матриці:\", total_sum)\n",
        "print(\"\\nСума елементів кожного рядка:\", row_sums)\n",
        "print(\"\\nДолі суми елементів кожного рядка в сумі всієї матриці:\")\n",
        "print(fractions)\n"
      ],
      "metadata": {
        "id": "c9DH0GyDtuZ8"
      },
      "execution_count": null,
      "outputs": []
    }
  ]
}