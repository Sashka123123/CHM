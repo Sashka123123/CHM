{
  "nbformat": 4,
  "nbformat_minor": 0,
  "metadata": {
    "colab": {
      "provenance": [],
      "authorship_tag": "ABX9TyOUTehhLGfQGjUfetlo8P3I",
      "include_colab_link": true
    },
    "kernelspec": {
      "name": "python3",
      "display_name": "Python 3"
    },
    "language_info": {
      "name": "python"
    }
  },
  "cells": [
    {
      "cell_type": "markdown",
      "metadata": {
        "id": "view-in-github",
        "colab_type": "text"
      },
      "source": [
        "<a href=\"https://colab.research.google.com/github/Sashka123123/CHM/blob/main/%D0%BF%D1%80%D0%B0%D0%BA%D1%82%D0%B8%D1%87%D0%BD%D0%B01.ipynb\" target=\"_parent\"><img src=\"https://colab.research.google.com/assets/colab-badge.svg\" alt=\"Open In Colab\"/></a>"
      ]
    },
    {
      "cell_type": "code",
      "execution_count": 1,
      "metadata": {
        "colab": {
          "base_uri": "https://localhost:8080/"
        },
        "id": "n6SBPR6fdM6I",
        "outputId": "86322a3f-b127-48da-8051-b0ae3bd608d1"
      },
      "outputs": [
        {
          "output_type": "stream",
          "name": "stdout",
          "text": [
            "Перша рівність точніше з відносною похибкою: 0.0008358038294752136\n"
          ]
        }
      ],
      "source": [
        "import math\n",
        "\n",
        "x1 = 55  # Точне число sqrt(x1)\n",
        "x2 = 20 / 13  # Точне число x2\n",
        "x1_1 = 7.41  # Наближене число x1\n",
        "x2_2 = 1.54  # Наближене число x2\n",
        "\n",
        "def f(x1, x1_1, x2, x2_2):\n",
        "    rel_error_x1 = abs(math.sqrt(x1) - x1_1) / abs(math.sqrt(x1))\n",
        "    rel_error_x2 = abs(x2 - x2_2) / abs(x2)\n",
        "\n",
        "    if rel_error_x1 < rel_error_x2:\n",
        "        print(\"Перша рівність точніше з відносною похибкою:\", rel_error_x1)\n",
        "    elif rel_error_x2 < rel_error_x1:\n",
        "        print(\"Друга рівність точніше з відносною похибкою:\", rel_error_x2)\n",
        "    else:\n",
        "        print(\"Обидві рівності мають однакову точність з відносною похибкою:\", rel_error_x1)\n",
        "\n",
        "f(x1, x1_1, x2, x2_2)\n"
      ]
    }
  ]
}