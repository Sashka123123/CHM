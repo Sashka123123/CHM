{
  "nbformat": 4,
  "nbformat_minor": 0,
  "metadata": {
    "colab": {
      "provenance": [],
      "authorship_tag": "ABX9TyO/80qZUHBordcnHJydtujL",
      "include_colab_link": true
    },
    "kernelspec": {
      "name": "python3",
      "display_name": "Python 3"
    },
    "language_info": {
      "name": "python"
    }
  },
  "cells": [
    {
      "cell_type": "markdown",
      "metadata": {
        "id": "view-in-github",
        "colab_type": "text"
      },
      "source": [
        "<a href=\"https://colab.research.google.com/github/Sashka123123/CHM/blob/main/%D0%BF%D1%80%D0%B0%D0%BA%D1%82%D0%B8%D1%87%D0%BD%D0%B011.ipynb\" target=\"_parent\"><img src=\"https://colab.research.google.com/assets/colab-badge.svg\" alt=\"Open In Colab\"/></a>"
      ]
    },
    {
      "cell_type": "code",
      "execution_count": 4,
      "metadata": {
        "colab": {
          "base_uri": "https://localhost:8080/"
        },
        "id": "H6dR4rc6EfJp",
        "outputId": "0533ba43-fcec-4cc5-b1d3-3ba557e69df1"
      },
      "outputs": [
        {
          "output_type": "stream",
          "name": "stdout",
          "text": [
            "Лівий прямокутник: 0.8352503\n",
            "Правий прямокутник: 0.8272549\n",
            "Середній прямокутник: 0.8352503\n",
            "Перевірка для прямокутного методу = 0.8312333\n"
          ]
        }
      ],
      "source": [
        "from scipy import integrate\n",
        "import math\n",
        "\n",
        "eps = 0.001\n",
        "a = 0.5\n",
        "b = 2.3\n",
        "n = 10\n",
        "\n",
        "def f(x):\n",
        "  return 1 / math.sqrt(0.5 * x + 4)\n",
        "\n",
        "def left_rec(f, a, b, n):\n",
        "  h = (b - a) / n\n",
        "  sum = 0\n",
        "  for i in range(0, n):\n",
        "      sum += f(a + i * h)\n",
        "  return sum * h\n",
        "\n",
        "integral1 = left_rec(f, a, b, n)\n",
        "integral2 = left_rec(f, a, b, n * 2)\n",
        "if (integral2 - integral1) / 3 <= eps:\n",
        "    print(\"Лівий прямокутник:\", round(left_rec(f, a, b, n), 7))\n",
        "\n",
        "def right_rec(f, a, b, n):\n",
        "    h = (b - a) / n\n",
        "    sum=0\n",
        "    for i in range(1, n+1):\n",
        "        sum += f(a + i * h)\n",
        "    return sum * h\n",
        "print(\"Правий прямокутник:\", round(right_rec(f, a, b, n), 7))\n",
        "\n",
        "def aver_rec(f, a, b, n):\n",
        "    h = (b - a) / n\n",
        "    sum = 0\n",
        "    for i in range(0, n):\n",
        "        sum += f(a + i * h)\n",
        "    return sum * h\n",
        "print(\"Середній прямокутник:\", round(aver_rec(f, a, b, n), 7))\n",
        "\n",
        "# Перевірка\n",
        "v, err = integrate.quad(f, a, b)\n",
        "print(\"Перевірка для прямокутного методу =\", round(v, 7))\n"
      ]
    },
    {
      "cell_type": "code",
      "source": [
        "from scipy import integrate\n",
        "import math\n",
        "\n",
        "# Define the function to be integrated\n",
        "def g(x):\n",
        "    return math.sin(x + 3)\n",
        "\n",
        "def f(x):\n",
        "    return (math.sqrt(x+1) * math.log(x+3, 10))\n",
        "\n",
        "# Set the integration limits and initial number of divisions\n",
        "a = 0.15\n",
        "b = 0.63\n",
        "n = 8\n",
        "\n",
        "# Calculate the integral using the Simpson's rule\n",
        "def simpson_rule(f, a, b, n):\n",
        "    h = (b - a) / n\n",
        "    integr = f(a) + f(b)\n",
        "    for i in range(1, n):\n",
        "        k = a + i * h\n",
        "        if i % 2 == 0:\n",
        "            integr += 2 * f(k)\n",
        "        else:\n",
        "            integr += 4 * f(k)\n",
        "    integr *= h / 3\n",
        "    return integr\n",
        "\n",
        "# Calculate the integral with a precision of 0.001\n",
        "integral1 = simpson_rule(f, a, b, n)\n",
        "integral2 = simpson_rule(f, a, b, n * 2)\n",
        "while abs(integral2 - integral1) / 15 > 0.001:\n",
        "    integral1 = integral2\n",
        "    n *= 2\n",
        "    integral2 = simpson_rule(f, a, b, n)\n",
        "\n",
        "# Print the result\n",
        "print(\"Метод Сімпсона:\", round(integral2, 7))\n",
        "\n",
        "# Check with scipy's quad function\n",
        "v, err = integrate.quad(f, a, b)\n",
        "print(\"Перевірка для методу Сімпсона =\", round(v, 7))\n"
      ],
      "metadata": {
        "colab": {
          "base_uri": "https://localhost:8080/"
        },
        "id": "zRRjl-UkI0NQ",
        "outputId": "7679ebe8-d75a-421f-f3c8-f50432a71e0a"
      },
      "execution_count": 15,
      "outputs": [
        {
          "output_type": "stream",
          "name": "stdout",
          "text": [
            "Метод Сімпсона: 0.2999686\n",
            "Перевірка для методу Сімпсона = 0.2999686\n"
          ]
        }
      ]
    },
    {
      "cell_type": "code",
      "source": [
        "from scipy import integrate\n",
        "import math\n",
        "\n",
        "# Define the function to be integrated\n",
        "def f(x):\n",
        "    return 1 / math.sqrt(3 * x**2 - 1)\n",
        "\n",
        "# Set the integration limits and initial number of divisions\n",
        "a = 1.4\n",
        "b = 2.1\n",
        "n = 20\n",
        "\n",
        "# Calculate the integral using the trapezoidal rule\n",
        "def trapezoidal_rule(f, a, b, n):\n",
        "    h = (b - a) / n\n",
        "    x = a\n",
        "    sum = 0\n",
        "    for i in range(1, n):\n",
        "        x += h\n",
        "        sum += 2 * f(x)\n",
        "    sum += f(b)\n",
        "    integral = h / 2 * sum\n",
        "\n",
        "    return integral\n",
        "\n",
        "# Calculate the integral with a precision of 0.001\n",
        "# Check the accuracy using the Runge's rule\n",
        "integral1 = trapezoidal_rule(f, a, b, n)\n",
        "integral2 = trapezoidal_rule(f, a, b, n * 2)\n",
        "while abs(integral2 - integral1) / 3 > 0.001:\n",
        "    integral1 = integral2\n",
        "    n *= 2\n",
        "    integral2 = trapezoidal_rule(f, a, b, n)\n",
        "\n",
        "# Print the result\n",
        "print(\"Метод трапецій:\", round(integral2, 7))\n",
        "\n",
        "# Check with scipy's quad function\n",
        "v, err = integrate.quad(f, a, b)\n",
        "print(\"Перевірка для методу трапецій =\", round(v, 7))\n"
      ],
      "metadata": {
        "colab": {
          "base_uri": "https://localhost:8080/"
        },
        "id": "qAQwuQXBLbDs",
        "outputId": "2533f511-e127-44a9-8ba2-df492fb050ef"
      },
      "execution_count": 16,
      "outputs": [
        {
          "output_type": "stream",
          "name": "stdout",
          "text": [
            "Метод трапецій: 0.2451873\n",
            "Перевірка для методу трапецій = 0.2491421\n"
          ]
        }
      ]
    }
  ]
}